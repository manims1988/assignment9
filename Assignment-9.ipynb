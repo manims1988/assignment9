{
 "cells": [
  {
   "cell_type": "markdown",
   "id": "3d8b02e8-81cf-4684-b0e1-280e4dc0ad3b",
   "metadata": {},
   "source": [
    "1. What is a lambda function in Python, and how does it differ from a regular function?"
   ]
  },
  {
   "cell_type": "code",
   "execution_count": 1,
   "id": "1b1d005c-1dc7-469c-b231-024d75532991",
   "metadata": {},
   "outputs": [
    {
     "name": "stdout",
     "output_type": "stream",
     "text": [
      "Lambda Function\n",
      "###############\n",
      "1. There is no function name in Lambda functions so they are also called anonymous functions. They are defined using the \"lambda\" keyword\n",
      "2. Lambda functions can only contain a single expression, which is evaluated and returns result\n",
      "3. There is No return statement in Lambda functions\n",
      "lambda value is 10\n",
      "Regular Function\n",
      "################\n",
      "1. We have to specifiy a function name at the time of function creation\n",
      "2. Function can be created using \"def\" keyword\n",
      "3. Regular function has return statement\n",
      "regular function value is 10\n"
     ]
    }
   ],
   "source": [
    "# Answer \n",
    "\n",
    "print('Lambda Function')\n",
    "print('#' * 15)\n",
    "print('1. There is no function name in Lambda functions so they are also called anonymous functions. They are defined using the \"lambda\" keyword') \n",
    "print('2. Lambda functions can only contain a single expression, which is evaluated and returns result')\n",
    "print('3. There is No return statement in Lambda functions')\n",
    "new = lambda x: x * 2\n",
    "print('lambda value is',new(5))\n",
    "\n",
    "print('Regular Function')\n",
    "print('#' * 16)\n",
    "print('1. We have to specifiy a function name at the time of function creation')\n",
    "print('2. Function can be created using \"def\" keyword')\n",
    "print('3. Regular function has return statement')\n",
    "def reg_fun(x):\n",
    "    return x * 2\n",
    "print('regular function value is',reg_fun(5))"
   ]
  },
  {
   "cell_type": "markdown",
   "id": "6bc6cdaf-38b3-4008-a6d0-43b4629e2693",
   "metadata": {},
   "source": [
    "2. Can a lambda function in Python have multiple arguments? If yes, how can you define and use them?"
   ]
  },
  {
   "cell_type": "code",
   "execution_count": 2,
   "id": "7b09730a-497a-4dd2-8378-7e209872b299",
   "metadata": {},
   "outputs": [
    {
     "name": "stdout",
     "output_type": "stream",
     "text": [
      "Yes, in Lambda function we can define with multiple arguments and below is one example program\n",
      "x is 6\n",
      "y is 4\n",
      "x+y is 10\n",
      "x-y is 2\n",
      "x*y is 24\n",
      "x/y is 1.5\n"
     ]
    }
   ],
   "source": [
    "# Answer \n",
    "\n",
    "print('Yes, in Lambda function we can define with multiple arguments and below is one example program')\n",
    "def new(x,y):\n",
    "    add = lambda x, y: x + y\n",
    "    sub = lambda x, y: x - y\n",
    "    mul = lambda x, y: x * y\n",
    "    div = lambda x, y: x / y\n",
    "    return f'x is {x}\\ny is {y}\\nx+y is {add(x,y)}\\nx-y is {sub(x,y)}\\nx*y is {mul(x,y)}\\nx/y is {div(x,y)}'\n",
    "print(new(6,4))"
   ]
  },
  {
   "cell_type": "markdown",
   "id": "6d285371-ddfa-43eb-8d7e-c0b9b2910e7a",
   "metadata": {},
   "source": [
    "3. How are lambda functions typically used in Python? Provide an example use case."
   ]
  },
  {
   "cell_type": "code",
   "execution_count": 3,
   "id": "7f1681cc-825f-418a-99d6-9ce7e712f7ea",
   "metadata": {},
   "outputs": [
    {
     "name": "stdout",
     "output_type": "stream",
     "text": [
      "Kindly find the below typical use case of lambda in python\n",
      "1. simple lambda function\n",
      "Addition using lambda function: 5\n",
      "2. using map lambda function\n",
      "using \"map\" function we can apply changes to all values\n",
      "Addition with map function: (4, 5, 6, 7)\n",
      "3. using filter lambda function\n",
      "using \"filter\" function we can apply changes and output will be returned with matched ones\n",
      "Addition with filter function: [6, 8]\n",
      "4. using reduce lambda function\n",
      "using \"reduce\" function we can apply changes and output will be returned in integer format\n",
      "Addition with reduce function: 42\n"
     ]
    }
   ],
   "source": [
    "# Answer \n",
    "\n",
    "print('Kindly find the below typical use case of lambda in python')\n",
    "print('1. simple lambda function')\n",
    "value = lambda x: x + 2\n",
    "print('Addition using lambda function:',value(3))\n",
    "\n",
    "print('2. using map lambda function')\n",
    "print('using \"map\" function we can apply changes to all values')\n",
    "list1 = [1,2,3,4]\n",
    "value1 = tuple(map(lambda x: x + 3, list1))\n",
    "print('Addition with map function:',value1)\n",
    "\n",
    "print('3. using filter lambda function')\n",
    "print('using \"filter\" function we can apply changes and output will be returned with matched ones')\n",
    "list2 = [5,6,7,8]\n",
    "value2 = list(filter(lambda x: x % 2 == 0, list2))\n",
    "print('Addition with filter function:',value2)\n",
    "\n",
    "print('4. using reduce lambda function')\n",
    "print('using \"reduce\" function we can apply changes and output will be returned in integer format')\n",
    "from functools import reduce\n",
    "list3 = [9,10,11,12]\n",
    "value3 = reduce(lambda x, y: x + y, list3)\n",
    "print('Addition with reduce function:',value3)"
   ]
  },
  {
   "cell_type": "markdown",
   "id": "b9ac628b-bb3d-4e4b-aacb-e199725451cd",
   "metadata": {},
   "source": [
    "4. What are the advantages and limitations of lambda functions compared to regular functions in Python?"
   ]
  },
  {
   "cell_type": "code",
   "execution_count": 4,
   "id": "3aea017b-46bb-4795-81ba-06a120b89879",
   "metadata": {},
   "outputs": [
    {
     "name": "stdout",
     "output_type": "stream",
     "text": [
      "Advantages in Lambda\n",
      "####################\n",
      "1. It is suitable for one-liners or where a small anonymous function is needed\n",
      "2. Lambda functions are anonymous, meaning they do not require a name and they can be created on the fly without the need for a function definition\n",
      "3. We can combine lambda function with these functions map(), filter(), and reduce()\n",
      "Limitations in Lambda\n",
      "####################\n",
      "1. They can only consist of a single expression and can not contain statements or multiple lines of code\n",
      "2. It is not suitable for complex logic or functions that require multiple steps\n",
      "3. It is a anonymous function and there is no name. They cannot have meaningful documentation strings (docstrings)\n"
     ]
    }
   ],
   "source": [
    "# Answer \n",
    "\n",
    "print('Advantages in Lambda')\n",
    "print('#' * 20)\n",
    "print('1. It is suitable for one-liners or where a small anonymous function is needed')\n",
    "print(\"2. Lambda functions are anonymous, meaning they do not require a name and they can be created on the fly without the need for a function definition\")\n",
    "print('3. We can combine lambda function with these functions map(), filter(), and reduce()')\n",
    "\n",
    "print('Limitations in Lambda')\n",
    "print('#' * 20)\n",
    "print('1. They can only consist of a single expression and can not contain statements or multiple lines of code')\n",
    "print('2. It is not suitable for complex logic or functions that require multiple steps')\n",
    "print('3. It is a anonymous function and there is no name. They cannot have meaningful documentation strings (docstrings)')\n"
   ]
  },
  {
   "cell_type": "markdown",
   "id": "65f71f70-8b44-4736-ad52-7d4f61ab774e",
   "metadata": {},
   "source": [
    "5. Are lambda functions in Python able to access variables defined outside of their own scope? Explain with an example."
   ]
  },
  {
   "cell_type": "code",
   "execution_count": 5,
   "id": "e15c5460-a611-4862-a941-a56fcab58b84",
   "metadata": {},
   "outputs": [
    {
     "name": "stdout",
     "output_type": "stream",
     "text": [
      "Yes, lambda functions in Python can access variables defined outside of their own scope\n",
      "These variables are referred to as \"lexical closures\" or \"captured variables.\"\n",
      "Lambda functions can access and use these variables even after they have gone out of scope in the enclosing code block\n",
      "the addition of 3 is 5\n",
      "the addition of 4 is 6\n"
     ]
    }
   ],
   "source": [
    "# Answer \n",
    "\n",
    "print('Yes, lambda functions in Python can access variables defined outside of their own scope')\n",
    "print('These variables are referred to as \"lexical closures\" or \"captured variables.\"')\n",
    "print('Lambda functions can access and use these variables even after they have gone out of scope in the enclosing code block')\n",
    "def add(n):\n",
    "    return lambda x: x + n\n",
    "\n",
    "add_by_2 = add(2)\n",
    "add_by_3 = add(3)\n",
    "\n",
    "print(f'the addition of 3 is {add_by_2(3)}')\n",
    "print(f'the addition of 4 is {add_by_3(3)}')"
   ]
  },
  {
   "cell_type": "markdown",
   "id": "00050d8d-70c1-487d-9c2a-46d37b062657",
   "metadata": {},
   "source": [
    "6. Write a lambda function to calculate the square of a given number."
   ]
  },
  {
   "cell_type": "code",
   "execution_count": 6,
   "id": "6bef8358-f9c9-477b-8011-e9ca1e825629",
   "metadata": {},
   "outputs": [
    {
     "name": "stdout",
     "output_type": "stream",
     "text": [
      "Method 1\n",
      "square value of 4 is 16\n",
      "Method 2\n",
      "square value of [1, 2, 3, 4] is (1, 4, 9, 16)\n"
     ]
    }
   ],
   "source": [
    "# Answer \n",
    "\n",
    "print('Method 1')\n",
    "square = lambda x : x ** 2 \n",
    "print(f'square value of 4 is {square(4)}')\n",
    "\n",
    "print('Method 2')\n",
    "list1=[1,2,3,4]\n",
    "square1 = tuple(map(lambda x : x ** 2, list1))\n",
    "print(f'square value of {list1} is {square1}')"
   ]
  },
  {
   "cell_type": "markdown",
   "id": "2a7aaead-360a-4cb2-aa32-dcae2d7cf069",
   "metadata": {},
   "source": [
    "7. Create a lambda function to find the maximum value in a list of integers."
   ]
  },
  {
   "cell_type": "code",
   "execution_count": 7,
   "id": "e5bf3848-c5ac-4623-a06b-02b26f3b2e33",
   "metadata": {},
   "outputs": [
    {
     "name": "stdout",
     "output_type": "stream",
     "text": [
      "To find the maximum value in a list of integers\n",
      "max value is 84\n"
     ]
    }
   ],
   "source": [
    "# Answer \n",
    "\n",
    "print('To find the maximum value in a list of integers')\n",
    "max_value = lambda x : max(x)\n",
    "result = max_value([10,29,4,56,84,75])\n",
    "print(f'max value is {result}')"
   ]
  },
  {
   "cell_type": "markdown",
   "id": "cc73b4a9-8a08-439d-9fbb-f2a3f14661ce",
   "metadata": {},
   "source": [
    "8. Implement a lambda function to filter out all the even numbers from a list of integers."
   ]
  },
  {
   "cell_type": "code",
   "execution_count": 8,
   "id": "5a994f7b-a5af-4bcf-bd57-083ba242eeb0",
   "metadata": {},
   "outputs": [
    {
     "name": "stdout",
     "output_type": "stream",
     "text": [
      "program to filter out even numbers\n",
      "even number from this (1, 2, 3, 4, 5, 6, 7, 8, 9, 10) is (2, 4, 6, 8, 10)\n"
     ]
    }
   ],
   "source": [
    "# Answer \n",
    "\n",
    "print('program to filter out even numbers')\n",
    "tuple1 = (1,2,3,4,5,6,7,8,9,10)\n",
    "result = tuple(filter(lambda x: x % 2 == 0, tuple1))\n",
    "print(f'even number from this {tuple1} is {result}')"
   ]
  },
  {
   "cell_type": "markdown",
   "id": "54e786da-784c-45db-830a-698c55ef051a",
   "metadata": {},
   "source": [
    "9. Write a lambda function to sort a list of strings in ascending order based on the length of each string."
   ]
  },
  {
   "cell_type": "code",
   "execution_count": 9,
   "id": "c215ff91-3c17-42e0-873d-0efc36777bef",
   "metadata": {},
   "outputs": [
    {
     "name": "stdout",
     "output_type": "stream",
     "text": [
      "sorted list of strings\n",
      "['C', 'R', 'C++', 'php', 'Java', 'mojo', 'Rust', 'Julia', 'python', 'Reactjs', 'Typescript', 'Javascript']\n"
     ]
    }
   ],
   "source": [
    "# Answer \n",
    "\n",
    "print('sorted list of strings')\n",
    "list_string = ['python','Java','mojo','Typescript','Reactjs','Javascript','C','C++','php','R','Rust','Julia']\n",
    "ans = sorted(list_string, key=lambda x: len(x))\n",
    "print(ans)"
   ]
  },
  {
   "cell_type": "markdown",
   "id": "0d521528-8429-4744-9e98-deb82186f032",
   "metadata": {},
   "source": [
    "10. Create a lambda function that takes two lists as input and returns a new list containing the common elements between the two lists."
   ]
  },
  {
   "cell_type": "code",
   "execution_count": 10,
   "id": "af3baaf2-87a8-4e18-b35c-e8aeb4c753ae",
   "metadata": {},
   "outputs": [
    {
     "name": "stdout",
     "output_type": "stream",
     "text": [
      "Finding common elements in given two strings\n",
      "common items are [4, 5]\n"
     ]
    }
   ],
   "source": [
    "# Answer \n",
    "\n",
    "print('Finding common elements in given two strings')\n",
    "list1 = [1, 2, 3, 4, 5]\n",
    "list2 = [4, 5, 6, 7, 8]\n",
    "common_elements = list(filter(lambda x: x in list1, list2))\n",
    "print(f'common items are',common_elements)"
   ]
  },
  {
   "cell_type": "markdown",
   "id": "a1658922-0cef-493f-9e8e-4014c6a4fec8",
   "metadata": {},
   "source": [
    "11. Write a recursive function to calculate the factorial of a given positive integer."
   ]
  },
  {
   "cell_type": "code",
   "execution_count": 11,
   "id": "ffdc2343-8f9a-4181-bce6-a29cf6577da3",
   "metadata": {},
   "outputs": [
    {
     "name": "stdout",
     "output_type": "stream",
     "text": [
      "recursive function program\n",
      "factorial of 5 is 120\n"
     ]
    }
   ],
   "source": [
    "# Answer \n",
    "\n",
    "print('recursive function program')\n",
    "def factorial(n):\n",
    "    if n == 0 or n == 1:\n",
    "        return 1\n",
    "    else:\n",
    "        return n * factorial(n - 1)\n",
    "num = 5\n",
    "print(f'factorial of {num} is {factorial(num)}')"
   ]
  },
  {
   "cell_type": "markdown",
   "id": "f406ed86-dc61-48ac-b4fe-bb59c2e7482e",
   "metadata": {},
   "source": [
    "12. Implement a recursive function to compute the nth Fibonacci number."
   ]
  },
  {
   "cell_type": "code",
   "execution_count": 12,
   "id": "ed5524fb-0ab0-41cc-aaec-3f97ae956abc",
   "metadata": {},
   "outputs": [
    {
     "name": "stdout",
     "output_type": "stream",
     "text": [
      "Recursive function to compute fibonacci number\n",
      "The Fibonacci number at position 5 is 5\n"
     ]
    }
   ],
   "source": [
    "# Answer \n",
    "\n",
    "print('Recursive function to compute fibonacci number')\n",
    "def fibonacci(n):\n",
    "    if n <= 0:\n",
    "        return \"Invalid input. n should be a positive integer.\"\n",
    "    elif n == 1 or n == 2:\n",
    "        return 1\n",
    "    else:\n",
    "        return fibonacci(n - 1) + fibonacci(n - 2)\n",
    "num = 5\n",
    "result = fibonacci(num)\n",
    "print(f'The Fibonacci number at position {num} is {result}')"
   ]
  },
  {
   "cell_type": "markdown",
   "id": "9e8f55cc-4ce2-40b1-9f42-37748c738254",
   "metadata": {},
   "source": [
    "13. Create a recursive function to find the sum of all the elements in a given list."
   ]
  },
  {
   "cell_type": "code",
   "execution_count": 13,
   "id": "7f440568-3921-49fb-9030-69da6d05efb3",
   "metadata": {},
   "outputs": [
    {
     "name": "stdout",
     "output_type": "stream",
     "text": [
      "Recursive function to find the sum of elements\n",
      "The sum of the list elements is: 15\n"
     ]
    }
   ],
   "source": [
    "# Answer \n",
    "\n",
    "print('Recursive function to find the sum of elements')\n",
    "def sum_of_list(lst):\n",
    "    if len(lst) == 0:\n",
    "        return 0\n",
    "    else:\n",
    "        return lst[0] + sum_of_list(lst[1:])\n",
    "\n",
    "my_list = [1, 2, 3, 4, 5]\n",
    "result = sum_of_list(my_list)\n",
    "print(f\"The sum of the list elements is: {result}\")"
   ]
  },
  {
   "cell_type": "markdown",
   "id": "4d0ad36e-48f4-44fa-95dc-60aed2c56e93",
   "metadata": {},
   "source": [
    "14. Write a recursive function to determine whether a given string is a palindrome."
   ]
  },
  {
   "cell_type": "code",
   "execution_count": 14,
   "id": "c1b2aa42-91c3-4b76-9467-221067123769",
   "metadata": {},
   "outputs": [
    {
     "name": "stdout",
     "output_type": "stream",
     "text": [
      "Finding Palindrome string\n",
      "The word 'radar' is a palindrome: True\n"
     ]
    }
   ],
   "source": [
    "# Answer\n",
    "\n",
    "print('Finding Palindrome string')\n",
    "def is_palindrome(string):\n",
    "    if len(string) <= 1:  # Base case: Empty string or single character\n",
    "        return True\n",
    "    elif string[0] == string[-1]:\n",
    "        return is_palindrome(string[1:-1])\n",
    "    else:\n",
    "        return False\n",
    "word = \"radar\"\n",
    "result = is_palindrome(word)\n",
    "print(f\"The word '{word}' is a palindrome: {result}\")"
   ]
  },
  {
   "cell_type": "markdown",
   "id": "61f033d6-e687-461e-860d-b56e8c2ee2dc",
   "metadata": {},
   "source": [
    "15. Implement a recursive function to find the greatest common divisor (GCD) of two positive integers."
   ]
  },
  {
   "cell_type": "code",
   "execution_count": 15,
   "id": "b4f5be47-6af8-4d83-9e12-e274bcc7f24a",
   "metadata": {},
   "outputs": [
    {
     "name": "stdout",
     "output_type": "stream",
     "text": [
      "Greatest Common Divisor number\n",
      "The GCD of 24 and 36 is: 0\n"
     ]
    }
   ],
   "source": [
    "# Answer \n",
    "\n",
    "print('Greatest Common Divisor number')\n",
    "def gcd(a, b):\n",
    "    if b == 0:\n",
    "        return b\n",
    "    else:\n",
    "        return gcd(b, a % b)\n",
    "    \n",
    "num1 = 24\n",
    "num2 = 36\n",
    "result = gcd(num1, num2)\n",
    "print(f\"The GCD of {num1} and {num2} is: {result}\")"
   ]
  }
 ],
 "metadata": {
  "kernelspec": {
   "display_name": "Python 3 (ipykernel)",
   "language": "python",
   "name": "python3"
  },
  "language_info": {
   "codemirror_mode": {
    "name": "ipython",
    "version": 3
   },
   "file_extension": ".py",
   "mimetype": "text/x-python",
   "name": "python",
   "nbconvert_exporter": "python",
   "pygments_lexer": "ipython3",
   "version": "3.10.6"
  }
 },
 "nbformat": 4,
 "nbformat_minor": 5
}
